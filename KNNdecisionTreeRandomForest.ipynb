{
  "cells": [
    {
      "cell_type": "code",
      "execution_count": 31,
      "metadata": {
        "id": "GlY0ooji3U7m"
      },
      "outputs": [],
      "source": [
        "import pandas as pd\n",
        "import sklearn as sk\n",
        "from sklearn import model_selection\n",
        "import numpy as np\n",
        "from sklearn.model_selection import cross_val_score\n",
        "from sklearn.preprocessing import StandardScaler\n",
        "from sklearn.tree import DecisionTreeClassifier\n",
        "from sklearn.ensemble import RandomForestClassifier\n",
        "import matplotlib.pyplot as plt\n",
        "\n",
        "df = pd.read_csv('hf://datasets/maharshipandya/spotify-tracks-dataset/dataset.csv')\n",
        "# Shuffle the dataset randomly to avoid any bias from alphabetical order\n",
        "df_shuffled = df.sample(frac=1, random_state=42).reset_index(drop=True)\n",
        "\n",
        "# Remove duplicates based on 'track_id' and 'track_name', keeping only the first occurrence\n",
        "df_remove_duplicates = df_shuffled.drop_duplicates(subset=['track_id', 'track_name'], keep='first')\n",
        "\n",
        "# Now, we no longer need these variables\n",
        "drop_columns = ['Unnamed: 0', 'track_id', 'artists', 'track_name', 'album_name']\n",
        "df = df_remove_duplicates.drop(columns=drop_columns).reset_index(drop=True)\n",
        "\n",
        "# Step 1: Identify the top 50 genres by frequency\n",
        "top_genres = df[\"track_genre\"].value_counts().head(40).index\n",
        "\n",
        "# Step 2: Filter the dataframe to include only rows with top genres\n",
        "df = df[df[\"track_genre\"].isin(top_genres)]\n",
        "\n",
        "#create one-hot encodings for inordinal categorical variables\n",
        "X = df.drop(['track_genre'], axis=1)\n",
        "X = pd.get_dummies(X, columns=['explicit', 'key', 'mode', 'time_signature'], drop_first=True, dtype=int)"
      ]
    },
    {
      "cell_type": "code",
      "execution_count": 18,
      "metadata": {
        "id": "i8Q0jY-dHCvk"
      },
      "outputs": [],
      "source": [
        "#train test split and scale\n",
        "x_train, x_test, y_train, y_test = model_selection.train_test_split(X, df['track_genre'], train_size=0.8)\n",
        "scaler = StandardScaler()\n",
        "x_train = scaler.fit_transform(x_train)\n",
        "x_test = scaler.transform(x_test)"
      ]
    },
    {
      "cell_type": "code",
      "execution_count": 19,
      "metadata": {
        "colab": {
          "base_uri": "https://localhost:8080/"
        },
        "id": "gMCcUYr4I8Sb",
        "outputId": "5e401772-ada2-400e-9aa9-c71ca3a8e976"
      },
      "outputs": [
        {
          "output_type": "stream",
          "name": "stdout",
          "text": [
            "best number of neighbors: 10 yielded an accuracy score: 0.38321167883211676\n"
          ]
        }
      ],
      "source": [
        "#KNN\n",
        "from sklearn.neighbors import KNeighborsClassifier\n",
        "from sklearn.metrics import accuracy_score\n",
        "\n",
        "best_accuracy = -1\n",
        "best_model = -1\n",
        "\n",
        "# experiment with different numbers of neighbors\n",
        "n_s = [5, 10, 15, 20, 25, 30, 35, 40]\n",
        "for n in n_s:\n",
        "      knn = KNeighborsClassifier(n)\n",
        "      knn.fit(x_train, y_train)\n",
        "      y_pred = knn.predict(x_test)\n",
        "      cur_accuracy = accuracy_score(y_test, y_pred)\n",
        "\n",
        "      if cur_accuracy > best_accuracy:\n",
        "          best_accuracy = cur_accuracy\n",
        "          best_model = n\n",
        "\n",
        "print(\"best number of neighbors:\", best_model, \"yielded an accuracy score:\", best_accuracy)\n"
      ]
    },
    {
      "cell_type": "code",
      "execution_count": 20,
      "metadata": {
        "colab": {
          "base_uri": "https://localhost:8080/"
        },
        "id": "FBDXhksMePoB",
        "outputId": "4758ae1b-93db-492f-f798-6447f733b960"
      },
      "outputs": [
        {
          "output_type": "execute_result",
          "data": {
            "text/plain": [
              "0.4632429614181439"
            ]
          },
          "metadata": {},
          "execution_count": 20
        }
      ],
      "source": [
        "#initial decision tree without hyperparameter tuning\n",
        "genreDecisionTree = DecisionTreeClassifier(random_state=8743)\n",
        "genreDecisionTree.fit(x_train, y_train)\n",
        "y_pred = genreDecisionTree.predict(x_test)\n",
        "y_test.to_numpy()\n",
        "accuracy = accuracy_score(y_test, y_pred)\n",
        "accuracy"
      ]
    },
    {
      "cell_type": "code",
      "execution_count": 21,
      "metadata": {
        "colab": {
          "base_uri": "https://localhost:8080/"
        },
        "id": "NsJtN7hAkiUD",
        "outputId": "fcfdb78b-fcf2-41c7-a509-de0cd41f7f68"
      },
      "outputs": [
        {
          "output_type": "execute_result",
          "data": {
            "text/plain": [
              "0.6209593326381647"
            ]
          },
          "metadata": {},
          "execution_count": 21
        }
      ],
      "source": [
        "#initial random forest without hyperparameter tuning\n",
        "randomForest = RandomForestClassifier(random_state=8743, n_estimators=50)\n",
        "randomForest.fit(x_train, y_train)\n",
        "y_pred = randomForest.predict(x_test)\n",
        "y_test.to_numpy()\n",
        "accuracy = accuracy_score(y_test, y_pred)\n",
        "accuracy"
      ]
    },
    {
      "cell_type": "code",
      "execution_count": 22,
      "metadata": {
        "colab": {
          "base_uri": "https://localhost:8080/"
        },
        "id": "cBYU-abSLd61",
        "outputId": "17c360ee-00bb-426f-e607-b6fe8478813a"
      },
      "outputs": [
        {
          "output_type": "stream",
          "name": "stdout",
          "text": [
            "Fitting 5 folds for each of 36 candidates, totalling 180 fits\n",
            "{'max_depth': 20, 'min_samples_leaf': 4, 'min_samples_split': 10}\n",
            "0.4778882189995112\n"
          ]
        }
      ],
      "source": [
        "#hyperparameter tuning for decision tree\n",
        "from sklearn.model_selection import GridSearchCV\n",
        "\n",
        "param_grid = {\n",
        "    'max_depth': [None, 10, 20, 30],\n",
        "    'min_samples_split': [2, 5, 10],\n",
        "    'min_samples_leaf': [1, 2, 4],\n",
        "}\n",
        "\n",
        "grid_search = GridSearchCV(\n",
        "    estimator=DecisionTreeClassifier(random_state=42),\n",
        "    param_grid=param_grid,\n",
        "    cv=5,\n",
        "    scoring='accuracy',\n",
        "    n_jobs=-1,\n",
        "    verbose=2\n",
        ")\n",
        "grid_search.fit(x_train, y_train)\n",
        "\n",
        "\n",
        "print(grid_search.best_params_)\n",
        "print(grid_search.best_score_)\n"
      ]
    },
    {
      "cell_type": "code",
      "source": [
        "#test on hyperparameter-tuned decision tree classifier\n",
        "bestDecisionTree = grid_search.best_estimator_\n",
        "y_pred = bestDecisionTree.predict(x_test)\n",
        "accuracy = accuracy_score(y_test, y_pred)\n",
        "accuracy"
      ],
      "metadata": {
        "colab": {
          "base_uri": "https://localhost:8080/"
        },
        "id": "cZZspbvMCfMa",
        "outputId": "3e438c91-c63f-4dac-ce84-4bbfc202b570"
      },
      "execution_count": 34,
      "outputs": [
        {
          "output_type": "execute_result",
          "data": {
            "text/plain": [
              "0.48318561001042754"
            ]
          },
          "metadata": {},
          "execution_count": 34
        }
      ]
    },
    {
      "cell_type": "code",
      "execution_count": 37,
      "metadata": {
        "colab": {
          "base_uri": "https://localhost:8080/"
        },
        "id": "ZbFI4czAMyaP",
        "outputId": "b6d66893-18c6-421e-ae52-4185fe2a81b2"
      },
      "outputs": [
        {
          "output_type": "stream",
          "name": "stdout",
          "text": [
            "Fitting 5 folds for each of 24 candidates, totalling 120 fits\n"
          ]
        },
        {
          "output_type": "stream",
          "name": "stderr",
          "text": [
            "/usr/local/lib/python3.10/dist-packages/joblib/externals/loky/process_executor.py:752: UserWarning: A worker stopped while some jobs were given to the executor. This can be caused by a too short worker timeout or by a memory leak.\n",
            "  warnings.warn(\n"
          ]
        },
        {
          "output_type": "stream",
          "name": "stdout",
          "text": [
            "{'max_depth': None, 'min_samples_leaf': 1, 'min_samples_split': 2, 'n_estimators': 150}\n",
            "0.6287110966270164\n"
          ]
        }
      ],
      "source": [
        "#hyperparameter tuning for random forest\n",
        "from sklearn.model_selection import GridSearchCV\n",
        "\n",
        "param_grid = {\n",
        "    'n_estimators': [100, 150],\n",
        "    'max_depth': [5, 7, None],\n",
        "    'min_samples_split': [2, 5],\n",
        "    'min_samples_leaf': [1, 2],\n",
        "}\n",
        "\n",
        "grid_search = GridSearchCV(\n",
        "    estimator=RandomForestClassifier(random_state=42),\n",
        "    param_grid=param_grid,\n",
        "    cv=5,\n",
        "    scoring='accuracy',\n",
        "    n_jobs=-1,\n",
        "    verbose=2\n",
        ")\n",
        "grid_search.fit(x_train, y_train)\n",
        "\n",
        "bestRF = grid_search.best_estimator_\n",
        "bestRF\n",
        "\n",
        "print(grid_search.best_params_)\n",
        "print(grid_search.best_score_)"
      ]
    },
    {
      "cell_type": "code",
      "source": [
        "#test on hyperparameter-tuned random forest classifier\n",
        "bestRF = grid_search.best_estimator_\n",
        "y_pred = bestRF.predict(x_test)\n",
        "accuracy = accuracy_score(y_test, y_pred)\n",
        "accuracy"
      ],
      "metadata": {
        "colab": {
          "base_uri": "https://localhost:8080/"
        },
        "id": "qYyNYEMhKbEh",
        "outputId": "a34d5dc8-5933-4e47-c160-161a233a121b"
      },
      "execution_count": 36,
      "outputs": [
        {
          "data": {
            "text/plain": [
              "0.6322992700729927"
            ]
          },
          "execution_count": 36,
          "metadata": {},
          "output_type": "execute_result"
        }
      ]
    }
  ],
  "metadata": {
    "accelerator": "TPU",
    "colab": {
      "gpuType": "V28",
      "provenance": []
    },
    "kernelspec": {
      "display_name": "Python 3",
      "name": "python3"
    },
    "language_info": {
      "name": "python"
    }
  },
  "nbformat": 4,
  "nbformat_minor": 0
}