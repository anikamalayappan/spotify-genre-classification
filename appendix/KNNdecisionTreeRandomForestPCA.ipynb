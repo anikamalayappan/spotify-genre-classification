{
  "cells": [
    {
      "cell_type": "code",
      "execution_count": 14,
      "metadata": {
        "id": "GlY0ooji3U7m"
      },
      "outputs": [],
      "source": [
        "import pandas as pd\n",
        "import sklearn as sk\n",
        "from sklearn import model_selection\n",
        "import numpy as np\n",
        "from sklearn.model_selection import cross_val_score\n",
        "from sklearn.preprocessing import StandardScaler\n",
        "from sklearn.tree import DecisionTreeClassifier\n",
        "from sklearn.ensemble import RandomForestClassifier\n",
        "import matplotlib.pyplot as plt\n",
        "\n",
        "df = pd.read_csv('hf://datasets/maharshipandya/spotify-tracks-dataset/dataset.csv')\n",
        "# Shuffle the dataset randomly to avoid any bias from alphabetical order\n",
        "df_shuffled = df.sample(frac=1, random_state=42).reset_index(drop=True)\n",
        "\n",
        "# Remove duplicates based on 'track_id' and 'track_name', keeping only the first occurrence\n",
        "df_remove_duplicates = df_shuffled.drop_duplicates(subset=['track_id', 'track_name'], keep='first')\n",
        "\n",
        "# Now, we no longer need these variables\n",
        "drop_columns = ['Unnamed: 0', 'track_id', 'artists', 'track_name', 'album_name']\n",
        "df = df_remove_duplicates.drop(columns=drop_columns).reset_index(drop=True)\n",
        "\n",
        "# Step 1: Identify the top 50 genres by frequency\n",
        "top_genres = df[\"track_genre\"].value_counts().head(40).index\n",
        "\n",
        "# Step 2: Filter the dataframe to include only rows with top genres\n",
        "df = df[df[\"track_genre\"].isin(top_genres)]\n",
        "\n",
        "#create one-hot encodings for inordinal categorical variables\n",
        "X = df.drop(['track_genre'], axis=1)\n",
        "X = pd.get_dummies(X, columns=['explicit', 'key', 'mode', 'time_signature'], drop_first=True, dtype=int)"
      ]
    },
    {
      "cell_type": "code",
      "execution_count": 15,
      "metadata": {
        "id": "i8Q0jY-dHCvk"
      },
      "outputs": [],
      "source": [
        "#train test split and scale\n",
        "x_train, x_test, y_train, y_test = model_selection.train_test_split(X, df['track_genre'], train_size=0.8)\n",
        "scaler = StandardScaler()\n",
        "x_train = scaler.fit_transform(x_train)\n",
        "x_test = scaler.transform(x_test)"
      ]
    },
    {
      "cell_type": "code",
      "execution_count": 16,
      "metadata": {
        "colab": {
          "base_uri": "https://localhost:8080/"
        },
        "id": "gMCcUYr4I8Sb",
        "outputId": "6a79c812-6f9e-4e81-dcac-3fece8c45f04"
      },
      "outputs": [
        {
          "output_type": "stream",
          "name": "stdout",
          "text": [
            "best number of neighbors: 5 yielded an accuracy score: 0.38620959332638166\n"
          ]
        }
      ],
      "source": [
        "#KNN\n",
        "from sklearn.neighbors import KNeighborsClassifier\n",
        "from sklearn.metrics import accuracy_score\n",
        "\n",
        "best_accuracy = -1\n",
        "best_model = -1\n",
        "\n",
        "# experiment with different numbers of neighbors\n",
        "n_s = [5, 10, 15, 20, 25, 30, 35, 40]\n",
        "for n in n_s:\n",
        "      knn = KNeighborsClassifier(n)\n",
        "      knn.fit(x_train, y_train)\n",
        "      y_pred = knn.predict(x_test)\n",
        "      cur_accuracy = accuracy_score(y_test, y_pred)\n",
        "\n",
        "      if cur_accuracy > best_accuracy:\n",
        "          best_accuracy = cur_accuracy\n",
        "          best_model = n\n",
        "\n",
        "print(\"best number of neighbors:\", best_model, \"yielded an accuracy score:\", best_accuracy)\n"
      ]
    },
    {
      "cell_type": "code",
      "execution_count": 17,
      "metadata": {
        "colab": {
          "base_uri": "https://localhost:8080/"
        },
        "id": "FBDXhksMePoB",
        "outputId": "9bbe12e9-9e36-44a7-b07d-921f8234daff"
      },
      "outputs": [
        {
          "output_type": "execute_result",
          "data": {
            "text/plain": [
              "0.46728362877997914"
            ]
          },
          "metadata": {},
          "execution_count": 17
        }
      ],
      "source": [
        "#initial decision tree without hyperparameter tuning\n",
        "genreDecisionTree = DecisionTreeClassifier(random_state=8743)\n",
        "genreDecisionTree.fit(x_train, y_train)\n",
        "y_pred = genreDecisionTree.predict(x_test)\n",
        "y_test.to_numpy()\n",
        "accuracy = accuracy_score(y_test, y_pred)\n",
        "accuracy"
      ]
    },
    {
      "cell_type": "code",
      "execution_count": 18,
      "metadata": {
        "colab": {
          "base_uri": "https://localhost:8080/"
        },
        "id": "NsJtN7hAkiUD",
        "outputId": "35ea0d13-6ed5-440e-bb1c-9c418323bf02"
      },
      "outputs": [
        {
          "output_type": "execute_result",
          "data": {
            "text/plain": [
              "0.6196558915537018"
            ]
          },
          "metadata": {},
          "execution_count": 18
        }
      ],
      "source": [
        "#initial random forest without hyperparameter tuning\n",
        "randomForest = RandomForestClassifier(random_state=8743, n_estimators=50)\n",
        "randomForest.fit(x_train, y_train)\n",
        "y_pred = randomForest.predict(x_test)\n",
        "y_test.to_numpy()\n",
        "accuracy = accuracy_score(y_test, y_pred)\n",
        "accuracy"
      ]
    },
    {
      "cell_type": "code",
      "execution_count": 19,
      "metadata": {
        "colab": {
          "base_uri": "https://localhost:8080/"
        },
        "id": "cBYU-abSLd61",
        "outputId": "c8554ef4-4c65-4099-e347-b7f411f0755e"
      },
      "outputs": [
        {
          "output_type": "stream",
          "name": "stdout",
          "text": [
            "Fitting 5 folds for each of 36 candidates, totalling 180 fits\n",
            "{'max_depth': 20, 'min_samples_leaf': 4, 'min_samples_split': 10}\n",
            "0.4768127749714844\n"
          ]
        }
      ],
      "source": [
        "#hyperparameter tuning for decision tree\n",
        "from sklearn.model_selection import GridSearchCV\n",
        "\n",
        "param_grid = {\n",
        "    'max_depth': [None, 10, 20, 30],\n",
        "    'min_samples_split': [2, 5, 10],\n",
        "    'min_samples_leaf': [1, 2, 4],\n",
        "}\n",
        "\n",
        "grid_search = GridSearchCV(\n",
        "    estimator=DecisionTreeClassifier(random_state=42),\n",
        "    param_grid=param_grid,\n",
        "    cv=5,\n",
        "    scoring='accuracy',\n",
        "    n_jobs=-1,\n",
        "    verbose=2\n",
        ")\n",
        "grid_search.fit(x_train, y_train)\n",
        "\n",
        "\n",
        "print(grid_search.best_params_)\n",
        "print(grid_search.best_score_)\n"
      ]
    },
    {
      "cell_type": "code",
      "source": [
        "#test on hyperparameter-tuned decision tree classifier\n",
        "bestDecisionTree = grid_search.best_estimator_\n",
        "y_pred = bestDecisionTree.predict(x_test)\n",
        "accuracy = accuracy_score(y_test, y_pred)\n",
        "accuracy"
      ],
      "metadata": {
        "colab": {
          "base_uri": "https://localhost:8080/"
        },
        "id": "cZZspbvMCfMa",
        "outputId": "97cc800d-1bb8-4d2c-f90d-9dfd1734e24a"
      },
      "execution_count": 20,
      "outputs": [
        {
          "output_type": "execute_result",
          "data": {
            "text/plain": [
              "0.48605318039624607"
            ]
          },
          "metadata": {},
          "execution_count": 20
        }
      ]
    },
    {
      "cell_type": "code",
      "execution_count": 21,
      "metadata": {
        "colab": {
          "base_uri": "https://localhost:8080/"
        },
        "id": "ZbFI4czAMyaP",
        "outputId": "a4e409dd-cc0e-4e3c-a10c-f609873251f5"
      },
      "outputs": [
        {
          "output_type": "stream",
          "name": "stdout",
          "text": [
            "Fitting 5 folds for each of 24 candidates, totalling 120 fits\n"
          ]
        },
        {
          "output_type": "stream",
          "name": "stderr",
          "text": [
            "/usr/local/lib/python3.10/dist-packages/joblib/externals/loky/process_executor.py:752: UserWarning: A worker stopped while some jobs were given to the executor. This can be caused by a too short worker timeout or by a memory leak.\n",
            "  warnings.warn(\n"
          ]
        },
        {
          "output_type": "stream",
          "name": "stdout",
          "text": [
            "{'max_depth': None, 'min_samples_leaf': 1, 'min_samples_split': 2, 'n_estimators': 150}\n",
            "0.6274401173211668\n"
          ]
        }
      ],
      "source": [
        "#hyperparameter tuning for random forest\n",
        "from sklearn.model_selection import GridSearchCV\n",
        "\n",
        "param_grid = {\n",
        "    'n_estimators': [100, 150],\n",
        "    'max_depth': [5, 7, None],\n",
        "    'min_samples_split': [2, 5],\n",
        "    'min_samples_leaf': [1, 2],\n",
        "}\n",
        "\n",
        "grid_search = GridSearchCV(\n",
        "    estimator=RandomForestClassifier(random_state=42),\n",
        "    param_grid=param_grid,\n",
        "    cv=5,\n",
        "    scoring='accuracy',\n",
        "    n_jobs=-1,\n",
        "    verbose=2\n",
        ")\n",
        "grid_search.fit(x_train, y_train)\n",
        "\n",
        "bestRF = grid_search.best_estimator_\n",
        "bestRF\n",
        "\n",
        "print(grid_search.best_params_)\n",
        "print(grid_search.best_score_)"
      ]
    },
    {
      "cell_type": "code",
      "source": [
        "#test on hyperparameter-tuned random forest classifier\n",
        "bestRF = grid_search.best_estimator_\n",
        "y_pred = bestRF.predict(x_test)\n",
        "accuracy = accuracy_score(y_test, y_pred)\n",
        "accuracy"
      ],
      "metadata": {
        "colab": {
          "base_uri": "https://localhost:8080/"
        },
        "id": "qYyNYEMhKbEh",
        "outputId": "993c5b09-3e10-470a-a59a-cb4a7a8aeaaa"
      },
      "execution_count": 22,
      "outputs": [
        {
          "output_type": "execute_result",
          "data": {
            "text/plain": [
              "0.6343847758081335"
            ]
          },
          "metadata": {},
          "execution_count": 22
        }
      ]
    },
    {
      "cell_type": "code",
      "source": [
        "#PCA Analysis\n",
        "from sklearn.decomposition import PCA\n",
        "\n",
        "# With KNN and RF having decent accuracies, apply PCA and see how it affects accuracy:\n",
        "\n",
        "# PCA (95% variance)\n",
        "pca = PCA(n_components=3)\n",
        "x_train_pca = pca.fit_transform(x_train)\n",
        "x_test_pca = pca.transform(x_test)\n",
        "\n",
        "# PCA on RF\n",
        "rf_pca = RandomForestClassifier(random_state=42, n_estimators=150)\n",
        "rf_pca.fit(x_train_pca, y_train)\n",
        "y_pred_pca_rf = rf_pca.predict(x_test_pca)\n",
        "rf_pca_accuracy = accuracy_score(y_test, y_pred_pca_rf)\n",
        "\n",
        "\n",
        "print(\"RF with PCA:\", rf_pca_accuracy)"
      ],
      "metadata": {
        "id": "9f25M_Bs-Qyq",
        "outputId": "7ac5273c-91f7-4835-d640-685312526d98",
        "colab": {
          "base_uri": "https://localhost:8080/"
        }
      },
      "execution_count": 23,
      "outputs": [
        {
          "output_type": "stream",
          "name": "stdout",
          "text": [
            "RF with PCA: 0.22888425443169969\n"
          ]
        }
      ]
    },
    {
      "cell_type": "code",
      "source": [
        "import matplotlib.pyplot as plt\n",
        "from sklearn.decomposition import PCA\n",
        "\n",
        "# standardize\n",
        "scaler = StandardScaler()\n",
        "x_train_scaled = scaler.fit_transform(x_train)\n",
        "\n",
        "# fit PCA\n",
        "pca = PCA()\n",
        "x_train_pca = pca.fit_transform(x_train)\n",
        "\n",
        "# plot\n",
        "explained_variance_ratio = pca.explained_variance_ratio_\n",
        "cumulative_variance = explained_variance_ratio.cumsum()\n",
        "plt.figure(figsize=(10, 6))\n",
        "plt.plot(range(1, len(explained_variance_ratio) + 1), explained_variance_ratio, marker='o', label='Individual Variance')\n",
        "plt.plot(range(1, len(cumulative_variance) + 1), cumulative_variance, marker='s', label='Cumulative Variance')\n",
        "plt.title('Scree Plot')\n",
        "plt.xlabel('PC')\n",
        "plt.ylabel('Explained Variance Ratio')\n",
        "plt.legend()\n",
        "plt.grid()\n",
        "plt.show()"
      ],
      "metadata": {
        "id": "b27e7T8A-VJ9",
        "outputId": "e602a4d3-812c-4583-9595-f39b72529743",
        "colab": {
          "base_uri": "https://localhost:8080/",
          "height": 564
        }
      },
      "execution_count": 24,
      "outputs": [
        {
          "output_type": "display_data",
          "data": {
            "text/plain": [
              "<Figure size 1000x600 with 1 Axes>"
            ],
            "image/png": "[encoded data removed]"
          },
          "metadata": {}
        }
      ]
    }
  ],
  "metadata": {
    "accelerator": "TPU",
    "colab": {
      "gpuType": "V28",
      "provenance": []
    },
    "kernelspec": {
      "display_name": "Python 3",
      "name": "python3"
    },
    "language_info": {
      "name": "python"
    }
  },
  "nbformat": 4,
  "nbformat_minor": 0
}
